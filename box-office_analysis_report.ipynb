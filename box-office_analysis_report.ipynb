{
 "cells": [
  {
   "cell_type": "markdown",
   "metadata": {},
   "source": [
    "## Report Outline"
   ]
  },
  {
   "cell_type": "code",
   "execution_count": 1,
   "metadata": {},
   "outputs": [],
   "source": [
    "# import the necessary modules\n",
    "import pandas as pd\n",
    "import numpy as np\n",
    "import matplotlib.pyplot as plt\n",
    "import seaborn as sns\n",
    "%matplotlib inline"
   ]
  },
  {
   "cell_type": "code",
   "execution_count": 5,
   "metadata": {},
   "outputs": [
    {
     "name": "stdout",
     "output_type": "stream",
     "text": [
      "(69119, 10)\n"
     ]
    },
    {
     "data": {
      "text/html": [
       "<div>\n",
       "<style scoped>\n",
       "    .dataframe tbody tr th:only-of-type {\n",
       "        vertical-align: middle;\n",
       "    }\n",
       "\n",
       "    .dataframe tbody tr th {\n",
       "        vertical-align: top;\n",
       "    }\n",
       "\n",
       "    .dataframe thead th {\n",
       "        text-align: right;\n",
       "    }\n",
       "</style>\n",
       "<table border=\"1\" class=\"dataframe\">\n",
       "  <thead>\n",
       "    <tr style=\"text-align: right;\">\n",
       "      <th></th>\n",
       "      <th>movie_id</th>\n",
       "      <th>primary_title</th>\n",
       "      <th>start_year</th>\n",
       "      <th>runtime_minutes</th>\n",
       "      <th>genres</th>\n",
       "      <th>averagerating</th>\n",
       "      <th>numvotes</th>\n",
       "      <th>genres1</th>\n",
       "      <th>genres2</th>\n",
       "      <th>genres3</th>\n",
       "    </tr>\n",
       "  </thead>\n",
       "  <tbody>\n",
       "    <tr>\n",
       "      <th>0</th>\n",
       "      <td>tt0063540</td>\n",
       "      <td>Sunghursh</td>\n",
       "      <td>2013</td>\n",
       "      <td>175.0</td>\n",
       "      <td>Action,Crime,Drama</td>\n",
       "      <td>7.0</td>\n",
       "      <td>77</td>\n",
       "      <td>Action</td>\n",
       "      <td>Crime</td>\n",
       "      <td>Drama</td>\n",
       "    </tr>\n",
       "    <tr>\n",
       "      <th>1</th>\n",
       "      <td>tt0066787</td>\n",
       "      <td>One Day Before the Rainy Season</td>\n",
       "      <td>2019</td>\n",
       "      <td>114.0</td>\n",
       "      <td>Biography,Drama</td>\n",
       "      <td>7.2</td>\n",
       "      <td>43</td>\n",
       "      <td>Biography</td>\n",
       "      <td>Drama</td>\n",
       "      <td>NaN</td>\n",
       "    </tr>\n",
       "  </tbody>\n",
       "</table>\n",
       "</div>"
      ],
      "text/plain": [
       "    movie_id                    primary_title  start_year  runtime_minutes  \\\n",
       "0  tt0063540                        Sunghursh        2013            175.0   \n",
       "1  tt0066787  One Day Before the Rainy Season        2019            114.0   \n",
       "\n",
       "               genres  averagerating  numvotes    genres1 genres2 genres3  \n",
       "0  Action,Crime,Drama            7.0        77     Action   Crime   Drama  \n",
       "1     Biography,Drama            7.2        43  Biography   Drama     NaN  "
      ]
     },
     "execution_count": 5,
     "metadata": {},
     "output_type": "execute_result"
    }
   ],
   "source": [
    "# import the dfm_basics_rate data\n",
    "dfm_basics_rate = pd.read_csv('data/dfm_basics_rate.csv')\n",
    "print(dfm_basics_rate.shape)\n",
    "dfm_basics_rate.head(2)"
   ]
  },
  {
   "cell_type": "code",
   "execution_count": 8,
   "metadata": {},
   "outputs": [
    {
     "name": "stdout",
     "output_type": "stream",
     "text": [
      "(5698, 5)\n"
     ]
    },
    {
     "data": {
      "text/html": [
       "<div>\n",
       "<style scoped>\n",
       "    .dataframe tbody tr th:only-of-type {\n",
       "        vertical-align: middle;\n",
       "    }\n",
       "\n",
       "    .dataframe tbody tr th {\n",
       "        vertical-align: top;\n",
       "    }\n",
       "\n",
       "    .dataframe thead th {\n",
       "        text-align: right;\n",
       "    }\n",
       "</style>\n",
       "<table border=\"1\" class=\"dataframe\">\n",
       "  <thead>\n",
       "    <tr style=\"text-align: right;\">\n",
       "      <th></th>\n",
       "      <th>release_date</th>\n",
       "      <th>movie</th>\n",
       "      <th>production_budget</th>\n",
       "      <th>domestic_gross</th>\n",
       "      <th>worldwide_gross</th>\n",
       "    </tr>\n",
       "  </thead>\n",
       "  <tbody>\n",
       "    <tr>\n",
       "      <th>4021</th>\n",
       "      <td>2001-11-30</td>\n",
       "      <td>Behind Enemy Lines</td>\n",
       "      <td>40000000</td>\n",
       "      <td>58855732</td>\n",
       "      <td>58855732</td>\n",
       "    </tr>\n",
       "    <tr>\n",
       "      <th>4990</th>\n",
       "      <td>1994-09-23</td>\n",
       "      <td>Exotica</td>\n",
       "      <td>1500000</td>\n",
       "      <td>5046118</td>\n",
       "      <td>5046118</td>\n",
       "    </tr>\n",
       "  </tbody>\n",
       "</table>\n",
       "</div>"
      ],
      "text/plain": [
       "     release_date               movie  production_budget  domestic_gross  \\\n",
       "4021   2001-11-30  Behind Enemy Lines           40000000        58855732   \n",
       "4990   1994-09-23             Exotica            1500000         5046118   \n",
       "\n",
       "      worldwide_gross  \n",
       "4021         58855732  \n",
       "4990          5046118  "
      ]
     },
     "execution_count": 8,
     "metadata": {},
     "output_type": "execute_result"
    }
   ],
   "source": [
    "# import the df_budgets_tn data\n",
    "df_budgets_tn = pd.read_csv('data/df_budgets_tn.csv')\n",
    "print(df_budgets_tn.shape)\n",
    "df_budgets_tn.sample(2)"
   ]
  },
  {
   "cell_type": "code",
   "execution_count": 9,
   "metadata": {},
   "outputs": [
    {
     "name": "stdout",
     "output_type": "stream",
     "text": [
      "(1238, 6)\n"
     ]
    },
    {
     "data": {
      "text/html": [
       "<div>\n",
       "<style scoped>\n",
       "    .dataframe tbody tr th:only-of-type {\n",
       "        vertical-align: middle;\n",
       "    }\n",
       "\n",
       "    .dataframe tbody tr th {\n",
       "        vertical-align: top;\n",
       "    }\n",
       "\n",
       "    .dataframe thead th {\n",
       "        text-align: right;\n",
       "    }\n",
       "</style>\n",
       "<table border=\"1\" class=\"dataframe\">\n",
       "  <thead>\n",
       "    <tr style=\"text-align: right;\">\n",
       "      <th></th>\n",
       "      <th>movie</th>\n",
       "      <th>production_budget</th>\n",
       "      <th>domestic_gross_x</th>\n",
       "      <th>worldwide_gross</th>\n",
       "      <th>studio</th>\n",
       "      <th>year</th>\n",
       "    </tr>\n",
       "  </thead>\n",
       "  <tbody>\n",
       "    <tr>\n",
       "      <th>0</th>\n",
       "      <td>Destroyer</td>\n",
       "      <td>9000000</td>\n",
       "      <td>1533324</td>\n",
       "      <td>3681096</td>\n",
       "      <td>Annapurna</td>\n",
       "      <td>2018</td>\n",
       "    </tr>\n",
       "    <tr>\n",
       "      <th>1</th>\n",
       "      <td>Vice</td>\n",
       "      <td>60000000</td>\n",
       "      <td>47836282</td>\n",
       "      <td>70883171</td>\n",
       "      <td>Annapurna</td>\n",
       "      <td>2018</td>\n",
       "    </tr>\n",
       "  </tbody>\n",
       "</table>\n",
       "</div>"
      ],
      "text/plain": [
       "       movie  production_budget  domestic_gross_x  worldwide_gross     studio  \\\n",
       "0  Destroyer            9000000           1533324          3681096  Annapurna   \n",
       "1       Vice           60000000          47836282         70883171  Annapurna   \n",
       "\n",
       "   year  \n",
       "0  2018  \n",
       "1  2018  "
      ]
     },
     "execution_count": 9,
     "metadata": {},
     "output_type": "execute_result"
    }
   ],
   "source": [
    "# import the dfm_basics_rate data\n",
    "df_budg_gros = pd.read_csv('data/df_budg_gros.csv')\n",
    "print(df_budg_gros.shape)\n",
    "df_budg_gros.head(2)"
   ]
  },
  {
   "cell_type": "code",
   "execution_count": 42,
   "metadata": {},
   "outputs": [
    {
     "name": "stdout",
     "output_type": "stream",
     "text": [
      "(3387, 5)\n"
     ]
    },
    {
     "data": {
      "text/html": [
       "<div>\n",
       "<style scoped>\n",
       "    .dataframe tbody tr th:only-of-type {\n",
       "        vertical-align: middle;\n",
       "    }\n",
       "\n",
       "    .dataframe tbody tr th {\n",
       "        vertical-align: top;\n",
       "    }\n",
       "\n",
       "    .dataframe thead th {\n",
       "        text-align: right;\n",
       "    }\n",
       "</style>\n",
       "<table border=\"1\" class=\"dataframe\">\n",
       "  <thead>\n",
       "    <tr style=\"text-align: right;\">\n",
       "      <th></th>\n",
       "      <th>title</th>\n",
       "      <th>studio</th>\n",
       "      <th>domestic_gross</th>\n",
       "      <th>foreign_gross</th>\n",
       "      <th>year</th>\n",
       "    </tr>\n",
       "  </thead>\n",
       "  <tbody>\n",
       "    <tr>\n",
       "      <th>0</th>\n",
       "      <td>Toy Story 3</td>\n",
       "      <td>BV</td>\n",
       "      <td>415000000.0</td>\n",
       "      <td>652000000</td>\n",
       "      <td>2010</td>\n",
       "    </tr>\n",
       "    <tr>\n",
       "      <th>1</th>\n",
       "      <td>Alice in Wonderland (2010)</td>\n",
       "      <td>BV</td>\n",
       "      <td>334200000.0</td>\n",
       "      <td>691300000</td>\n",
       "      <td>2010</td>\n",
       "    </tr>\n",
       "  </tbody>\n",
       "</table>\n",
       "</div>"
      ],
      "text/plain": [
       "                        title studio  domestic_gross foreign_gross  year\n",
       "0                 Toy Story 3     BV     415000000.0     652000000  2010\n",
       "1  Alice in Wonderland (2010)     BV     334200000.0     691300000  2010"
      ]
     },
     "execution_count": 42,
     "metadata": {},
     "output_type": "execute_result"
    }
   ],
   "source": [
    "# import the bom.movie_gross data\n",
    "df_studios = pd.read_csv('data/bom.movie_gross.csv')\n",
    "print(df_studios.shape)\n",
    "df_studios.head(2)"
   ]
  },
  {
   "cell_type": "markdown",
   "metadata": {},
   "source": [
    "### Data Background\n",
    "Here we will explore some metrics to understand the film undustry:\n",
    "- which genres are big?\n",
    "- which movie studios are big?\n",
    "- how long does a typical movie last?\n",
    "- how many movies are produced each year?"
   ]
  },
  {
   "cell_type": "markdown",
   "metadata": {},
   "source": [
    "### Which Genres Are Big?\n",
    "The top 3 genres (Drama, Comedy and Documentary) make up over half of the movies produced"
   ]
  },
  {
   "cell_type": "code",
   "execution_count": 22,
   "metadata": {},
   "outputs": [
    {
     "name": "stdout",
     "output_type": "stream",
     "text": [
      "Drama          25.0\n",
      "Comedy         20.5\n",
      "Documentary    19.1\n",
      "Action          9.6\n",
      "Horror          6.1\n",
      "Biography       4.8\n",
      "Adventure       3.6\n",
      "Crime           3.4\n",
      "Thriller        2.0\n",
      "Animation       1.3\n",
      "Romance         1.1\n",
      "Name: genres1, dtype: float64\n"
     ]
    }
   ],
   "source": [
    "g = round(dfm_basics_rate.genres1.value_counts(normalize=True) * 100, 1).head(11)\n",
    "print(g)"
   ]
  },
  {
   "cell_type": "code",
   "execution_count": 40,
   "metadata": {},
   "outputs": [
    {
     "data": {
      "image/png": "[encoded data removed]",
      "text/plain": [
       "<Figure size 1008x576 with 1 Axes>"
      ]
     },
     "metadata": {
      "needs_background": "light"
     },
     "output_type": "display_data"
    }
   ],
   "source": [
    "y = list(g.values)\n",
    "x = list(g.index)\n",
    "\n",
    "plt.figure(figsize=(14, 8))\n",
    "plt.bar(x, y)\n",
    "plt.xlabel('Genres')\n",
    "plt.ylabel('size in %')\n",
    "plt.title('Size of movie genres');"
   ]
  },
  {
   "cell_type": "markdown",
   "metadata": {},
   "source": [
    "### Which Movie Studios Are Big?\n",
    "The movie industry has many movie studios, totaling to 258 in our data. The plot below shows the size of movie studios based on the number of movies they have produced. This means there is no dominant market leader, with IFC, Universal, Warner Brothers, Fox and Magnet competing at the top"
   ]
  },
  {
   "cell_type": "code",
   "execution_count": 50,
   "metadata": {},
   "outputs": [
    {
     "name": "stdout",
     "output_type": "stream",
     "text": [
      "Total # of studios:  258\n",
      "\n",
      "\n",
      "IFC       4.9\n",
      "Uni.      4.3\n",
      "WB        4.1\n",
      "Fox       4.0\n",
      "Magn.     4.0\n",
      "SPC       3.6\n",
      "Sony      3.3\n",
      "BV        3.1\n",
      "LGF       3.0\n",
      "Par.      3.0\n",
      "Eros      2.6\n",
      "Wein.     2.3\n",
      "CL        2.2\n",
      "Strand    2.0\n",
      "FoxS      2.0\n",
      "RAtt.     2.0\n",
      "KL        1.8\n",
      "Focus     1.8\n",
      "WGUSA     1.7\n",
      "CJ        1.7\n",
      "Name: studio, dtype: float64\n"
     ]
    }
   ],
   "source": [
    "s = round(df_studios.studio.value_counts(normalize=True) * 100, 1).head(20)\n",
    "print('Total # of studios: ', len(df_studios.studio.unique()))\n",
    "print('\\n')\n",
    "print(s)\n"
   ]
  },
  {
   "cell_type": "code",
   "execution_count": 46,
   "metadata": {},
   "outputs": [
    {
     "data": {
      "image/png": "[encoded data removed]",
      "text/plain": [
       "<Figure size 1008x576 with 1 Axes>"
      ]
     },
     "metadata": {
      "needs_background": "light"
     },
     "output_type": "display_data"
    }
   ],
   "source": [
    "y = list(s.values)\n",
    "x = list(s.index)\n",
    "\n",
    "plt.figure(figsize=(14, 8))\n",
    "plt.bar(x, y)\n",
    "plt.xlabel('Movie Studio')\n",
    "plt.ylabel('Movies Produced in %')\n",
    "plt.title('Size of Movie Studios');"
   ]
  },
  {
   "cell_type": "markdown",
   "metadata": {},
   "source": [
    "### How Long does a typical movie last?\n",
    "A typical movie will last around 100 minutes. However, there are those that will last slightly under 50 minutes or upto 250 minutes"
   ]
  },
  {
   "cell_type": "code",
   "execution_count": 51,
   "metadata": {},
   "outputs": [
    {
     "data": {
      "image/png": "[encoded data removed]",
      "text/plain": [
       "<Figure size 1008x576 with 1 Axes>"
      ]
     },
     "metadata": {
      "needs_background": "light"
     },
     "output_type": "display_data"
    }
   ],
   "source": [
    "plt.figure(figsize=(14, 8))\n",
    "plt.hist(dfm_basics_rate.runtime_minutes)\n",
    "plt.xlabel('Movie Duration (Minutes)')\n",
    "plt.ylabel('Count of Movie Duration')\n",
    "plt.title('Trend of Movie Duration in Minutes');"
   ]
  },
  {
   "cell_type": "code",
   "execution_count": null,
   "metadata": {},
   "outputs": [],
   "source": []
  }
 ],
 "metadata": {
  "kernelspec": {
   "display_name": "Python (learn-env)",
   "language": "python",
   "name": "learn-env"
  },
  "language_info": {
   "codemirror_mode": {
    "name": "ipython",
    "version": 3
   },
   "file_extension": ".py",
   "mimetype": "text/x-python",
   "name": "python",
   "nbconvert_exporter": "python",
   "pygments_lexer": "ipython3",
   "version": "3.8.5"
  }
 },
 "nbformat": 4,
 "nbformat_minor": 4
}
